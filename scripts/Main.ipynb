{
 "cells": [
  {
   "cell_type": "code",
   "execution_count": null,
   "metadata": {},
   "outputs": [],
   "source": [
    "import pandas as pd\n",
    "import matplotlib.pyplot as plt\n",
    "import numpy as np\n",
    "import scipy as scp"
   ]
  }
 ],
 "metadata": {
  "interpreter": {
   "hash": "0d0f75865b40ce7d1e78861f670a71ec6ed23ca10662f5f71e12acb81d392075"
  },
  "kernelspec": {
   "display_name": "Python 3.9.7 64-bit ('condaenv': conda)",
   "language": "python",
   "name": "python3"
  },
  "language_info": {
   "name": "python",
   "version": "3.9.7"
  },
  "orig_nbformat": 4
 },
 "nbformat": 4,
 "nbformat_minor": 2
}
