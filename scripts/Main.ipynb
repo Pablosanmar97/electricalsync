{
 "cells": [
  {
   "cell_type": "code",
   "execution_count": 64,
   "metadata": {},
   "outputs": [],
   "source": [
    "import pandas as pd\n",
    "import matplotlib.pyplot as plt\n",
    "import numpy as np\n",
    "import src.utilities as utils\n",
    "import scipy as scp\n"
   ]
  },
  {
   "cell_type": "code",
   "execution_count": 65,
   "metadata": {},
   "outputs": [],
   "source": [
    "path = \"/home/pablo/Escritorio\" #Path to the file\n",
    "file = \"/test.csv\" #File\n",
    "fullpath = path + file \n",
    "file_type = \"1\" #\"1 = old, 2 = rtxi, 3 = free\n",
    "h0 = \"TIME\" #Header of column 0: Time\n",
    "h1 = \"PD1\" #Header of column 1: Left Electrode\n",
    "h2 = \"PD2\" #Header of column 2: Right Electrode\n",
    "h3 = \"EXTRA1\" #Header of column 3: Left Extracellular\n",
    "h4 = \"EXTRA2\" #Header of column 4: Right Extracellular\n",
    "\n",
    "Discard = True\n",
    "Interspike_max_missing = 150 #ms*10e-1\n",
    "Interburst = 1000 #ms*10e-1\n",
    "CommonStandard_df = pd.read_csv(fullpath, delimiter = \" \", names=(h0, h3, h4, h1, h2), usecols=(0,1,2,3,4))[[h0, h1, h2, h3, h4]]\n",
    "Template_df = pd.DataFrame()\n",
    "Neuron1 = 3\n",
    "Neuron2 = 4\n",
    "Highthresh = 0.3\n",
    "Lowthresh = 0.3"
   ]
  }
 ],
 "metadata": {
  "interpreter": {
   "hash": "0d0f75865b40ce7d1e78861f670a71ec6ed23ca10662f5f71e12acb81d392075"
  },
  "kernelspec": {
   "display_name": "Python 3.9.7 64-bit ('condaenv': conda)",
   "language": "python",
   "name": "python3"
  },
  "language_info": {
   "codemirror_mode": {
    "name": "ipython",
    "version": 3
   },
   "file_extension": ".py",
   "mimetype": "text/x-python",
   "name": "python",
   "nbconvert_exporter": "python",
   "pygments_lexer": "ipython3",
   "version": "3.9.7"
  },
  "orig_nbformat": 4
 },
 "nbformat": 4,
 "nbformat_minor": 2
}
